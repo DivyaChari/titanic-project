{
 "cells": [
  {
   "cell_type": "markdown",
   "metadata": {},
   "source": [
    "# Examining Factors Influencing Survival on the Titanic "
   ]
  },
  {
   "cell_type": "markdown",
   "metadata": {},
   "source": [
    "In this project, a dataset containing details about a subset of the passengers who were onboard the Titanic is analyzed with the objective of checking if factors such as age, sex, and socio-economic status influenced the survival rates of passengers. Details about the dataset fields are found on the [Titanic Kaggle page](https://www.kaggle.com/c/titanic/data)."
   ]
  },
  {
   "cell_type": "markdown",
   "metadata": {},
   "source": [
    "## Question Phase\n",
    "\n",
    "Based on information about the dataset, I chose to explore the following questions in this project.\n",
    "\n",
    "1\\. Did the \"women and children first\" code of conduct hold good during the Titanic evacuation?\n",
    "\n",
    "2\\. How did the survival percentage differ across the socio-economic status of passengers?\n",
    "\n",
    "3\\. Were passengers travelling as part of a family more likely or less likely to survive from those who travelled alone?"
   ]
  },
  {
   "cell_type": "markdown",
   "metadata": {},
   "source": [
    "## Wrangling Phase\n",
    "\n",
    "### Data Acquisition\n",
    "\n",
    "Data acquisition was straightforward for this project and simply consisted of downloading the csv file from the Udacity page and loading it into a Pandas dataframe.  "
   ]
  },
  {
   "cell_type": "code",
   "execution_count": 21,
   "metadata": {
    "collapsed": true
   },
   "outputs": [],
   "source": [
    "# Import statements\n",
    "%matplotlib inline\n",
    "import pandas as pd\n",
    "import numpy as np\n",
    "import scipy.stats\n",
    "import seaborn as sns"
   ]
  },
  {
   "cell_type": "code",
   "execution_count": 22,
   "metadata": {
    "collapsed": true
   },
   "outputs": [],
   "source": [
    "# Reading csv file into pandas dataframe\n",
    "titanic_data_df = pd.read_csv('titanic-data.csv')"
   ]
  },
  {
   "cell_type": "markdown",
   "metadata": {},
   "source": [
    "### Data Cleaning\n",
    "\n",
    "Data cleaning involved inspecting the dataset with a view toward:\n",
    "* eliminating unnecessary information, \n",
    "* removing/replacing NaNs,\n",
    "* aggregating columns to simplify analysis, and\n",
    "* replacing numeric categorical values with string equivalents for better readability."
   ]
  },
  {
   "cell_type": "code",
   "execution_count": 23,
   "metadata": {},
   "outputs": [
    {
     "name": "stdout",
     "output_type": "stream",
     "text": [
      "<class 'pandas.core.frame.DataFrame'>\n",
      "RangeIndex: 891 entries, 0 to 890\n",
      "Data columns (total 12 columns):\n",
      "PassengerId    891 non-null int64\n",
      "Survived       891 non-null int64\n",
      "Pclass         891 non-null int64\n",
      "Name           891 non-null object\n",
      "Sex            891 non-null object\n",
      "Age            714 non-null float64\n",
      "SibSp          891 non-null int64\n",
      "Parch          891 non-null int64\n",
      "Ticket         891 non-null object\n",
      "Fare           891 non-null float64\n",
      "Cabin          204 non-null object\n",
      "Embarked       889 non-null object\n",
      "dtypes: float64(2), int64(5), object(5)\n",
      "memory usage: 83.6+ KB\n"
     ]
    }
   ],
   "source": [
    "# Preliminary exploration of dataset to decide on data cleaning required\n",
    "titanic_data_df.info()"
   ]
  },
  {
   "cell_type": "code",
   "execution_count": 24,
   "metadata": {
    "collapsed": true
   },
   "outputs": [],
   "source": [
    "# Removing columns that are not related to the study\n",
    "titanic_data_df.drop(['PassengerId', 'Name', 'Ticket', 'Fare', 'Cabin', 'Embarked'],inplace=True,axis=1)"
   ]
  },
  {
   "cell_type": "code",
   "execution_count": 25,
   "metadata": {
    "collapsed": true
   },
   "outputs": [],
   "source": [
    "# Merging columns with number of siblings/spouses and parents/children to simplify family analysis\n",
    "titanic_data_df.insert(5,'WithFamily', (titanic_data_df.SibSp + titanic_data_df.Parch) > 0)\n",
    "titanic_data_df.drop(['SibSp', 'Parch'],inplace=True,axis=1)"
   ]
  },
  {
   "cell_type": "code",
   "execution_count": 26,
   "metadata": {
    "collapsed": true
   },
   "outputs": [],
   "source": [
    "# Replacing numeric categorical values with string equivalents to improve readability\n",
    "titanic_data_df['Survived'].replace([0,1],['No','Yes'],inplace=True)\n",
    "titanic_data_df['Pclass'].replace([1,2,3],['Upper','Middle','Lower'],inplace=True)"
   ]
  },
  {
   "cell_type": "code",
   "execution_count": 27,
   "metadata": {},
   "outputs": [
    {
     "data": {
      "text/plain": [
       "Survived        0\n",
       "Pclass          0\n",
       "Sex             0\n",
       "Age           177\n",
       "WithFamily      0\n",
       "dtype: int64"
      ]
     },
     "execution_count": 27,
     "metadata": {},
     "output_type": "execute_result"
    }
   ],
   "source": [
    "# Checking for missing values in the remaining dataset\n",
    "titanic_data_df.isnull().sum()"
   ]
  },
  {
   "cell_type": "markdown",
   "metadata": {},
   "source": [
    "**Note:** As 177 entries constitute a substantial portion (19.87%) of the entire dataset, I created another dataset to analyze the age values by eliminating NaNs and retained the original dataset for exploring other fields. I chose to completely remove the missing data values instead of replacing by other values such as zero or the mean. This is because my analysis classifies passengers based on their age into children/adults and substituting values could potentially skew the analysis."
   ]
  },
  {
   "cell_type": "code",
   "execution_count": 28,
   "metadata": {
    "collapsed": true
   },
   "outputs": [],
   "source": [
    "# Creating a new dataframe for age analysis without null values \n",
    "age_analysis_df = titanic_data_df.copy()\n",
    "age_analysis_df.dropna(axis=0, inplace=True)"
   ]
  },
  {
   "cell_type": "code",
   "execution_count": 29,
   "metadata": {
    "collapsed": true
   },
   "outputs": [],
   "source": [
    "# Creating a column that indicates whether or not passenger is a child (age less than 18 years)\n",
    "age_analysis_df.insert(2,'Child', (age_analysis_df.Age) < 18)"
   ]
  },
  {
   "cell_type": "code",
   "execution_count": 30,
   "metadata": {
    "collapsed": true
   },
   "outputs": [],
   "source": [
    "# Dropping the Age column from the original dataframe\n",
    "titanic_data_df.drop('Age',inplace=True,axis=1)"
   ]
  },
  {
   "cell_type": "markdown",
   "metadata": {},
   "source": [
    "## Exploration and Analysis Phase\n",
    "\n",
    "Next, the cleaned datasets are investigated to check for patterns/insights. The analysis is organized according to the aspects mentioned in the questions. A function *compute_survival_rate* is used to compute the percentage that the passenger count accounts for within a category. "
   ]
  },
  {
   "cell_type": "code",
   "execution_count": 31,
   "metadata": {
    "collapsed": true
   },
   "outputs": [],
   "source": [
    "# Function that computes the percentage value\n",
    "def compute_percentage(value):\n",
    "    return (100 * value / value.sum())"
   ]
  },
  {
   "cell_type": "code",
   "execution_count": 32,
   "metadata": {
    "collapsed": true
   },
   "outputs": [],
   "source": [
    "def compute_survival_rate(parameter):\n",
    "    '''\n",
    "    This function groups data on a particular index and computes count percentage within the category\n",
    "    Parameter refers to a list of attributes according to which the dataset is grouped\n",
    "    '''\n",
    "    # Determing the dataset to the analyzed\n",
    "    if 'Child' in parameter:\n",
    "        df = age_analysis_df\n",
    "    else:\n",
    "        df = titanic_data_df\n",
    "    \n",
    "    # Grouping the dataset with respect to the parameters and computing the percentage\n",
    "    parameter_list = ['Survived'] + parameter\n",
    "    sub_group = df.groupby(parameter_list).agg({'Survived':'count'})\n",
    "    sub_group['Percentage'] = sub_group.groupby(level=0).apply(compute_percentage)\n",
    "    \n",
    "    # Visualization by printing out values and plotting it as a barplot\n",
    "    print sub_group\n",
    "    if len(parameter_list) == 3:\n",
    "        sns.factorplot(x=parameter_list[1], hue=parameter_list[2], col='Survived', data=df, kind='count')\n",
    "    else:\n",
    "        title_text = 'Categorization of passengers based on ' + str(parameter)\n",
    "        ax = sub_group.unstack().plot(y='Percentage', kind='bar', stacked=True, title=title_text)\n",
    "        ax.set_ylabel('Percentage')"
   ]
  },
  {
   "cell_type": "markdown",
   "metadata": {},
   "source": [
    "**Effect of the sex and age range of passengers on their chances of survival**"
   ]
  },
  {
   "cell_type": "code",
   "execution_count": 33,
   "metadata": {},
   "outputs": [
    {
     "name": "stdout",
     "output_type": "stream",
     "text": [
      "Categorization of passengers based on sex\n",
      "                 Survived  Percentage\n",
      "Survived Sex                         \n",
      "No       female        81   14.754098\n",
      "         male         468   85.245902\n",
      "Yes      female       233   68.128655\n",
      "         male         109   31.871345\n"
     ]
    },
    {
     "data": {
      "image/png": "[encoded data removed]",
      "text/plain": [
       "<matplotlib.figure.Figure at 0xbfb9898>"
      ]
     },
     "metadata": {},
     "output_type": "display_data"
    }
   ],
   "source": [
    "print 'Categorization of passengers based on sex'\n",
    "compute_survival_rate(['Sex'])"
   ]
  },
  {
   "cell_type": "markdown",
   "metadata": {},
   "source": [
    "**Observation:** Females make up more than two-thirds of those who survived, while 85% of those who perished were males."
   ]
  },
  {
   "cell_type": "code",
   "execution_count": 34,
   "metadata": {},
   "outputs": [
    {
     "name": "stdout",
     "output_type": "stream",
     "text": [
      "Categorization of passengers based on age range\n",
      "                Survived  Percentage\n",
      "Survived Child                      \n",
      "No       False       372   87.735849\n",
      "         True         52   12.264151\n",
      "Yes      False       229   78.965517\n",
      "         True         61   21.034483\n"
     ]
    },
    {
     "data": {
      "image/png": "[encoded data removed]",
      "text/plain": [
       "<matplotlib.figure.Figure at 0xbd243c8>"
      ]
     },
     "metadata": {},
     "output_type": "display_data"
    }
   ],
   "source": [
    "print 'Categorization of passengers based on age range'\n",
    "compute_survival_rate(['Child'])"
   ]
  },
  {
   "cell_type": "markdown",
   "metadata": {},
   "source": [
    "**Observation:** The number of survivors was greater than the number of those who perished in the case of children. In contrast, those who perished were more in the case of adults."
   ]
  },
  {
   "cell_type": "code",
   "execution_count": 35,
   "metadata": {},
   "outputs": [
    {
     "name": "stdout",
     "output_type": "stream",
     "text": [
      "Categorization of passengers based on both sex and age range\n",
      "                       Survived  Percentage\n",
      "Survived Sex    Child                      \n",
      "No       female False        47   11.084906\n",
      "                True         17    4.009434\n",
      "         male   False       325   76.650943\n",
      "                True         35    8.254717\n",
      "Yes      female False       159   54.827586\n",
      "                True         38   13.103448\n",
      "         male   False        70   24.137931\n",
      "                True         23    7.931034\n"
     ]
    },
    {
     "data": {
      "image/png": "[encoded data removed]",
      "text/plain": [
       "<matplotlib.figure.Figure at 0x9573ef0>"
      ]
     },
     "metadata": {},
     "output_type": "display_data"
    }
   ],
   "source": [
    "print 'Categorization of passengers based on both sex and age range'\n",
    "df = compute_survival_rate(['Sex','Child'])"
   ]
  },
  {
   "cell_type": "markdown",
   "metadata": {},
   "source": [
    "**Observation:** From the plot, it is obvious that females had a better chance of surviving than males. However, the number of male children who survived was less than the number of male children who perished, even though children seemed to have a better chance of overall survival. Therefore, using categorization of adult/child to determine survivability is not advisable. Next, a deeper analysis is conducted to check if there exists any difference in mean ages of those who survived and perished. "
   ]
  },
  {
   "cell_type": "code",
   "execution_count": 36,
   "metadata": {},
   "outputs": [
    {
     "data": {
      "text/html": [
       "<div>\n",
       "<style>\n",
       "    .dataframe thead tr:only-child th {\n",
       "        text-align: right;\n",
       "    }\n",
       "\n",
       "    .dataframe thead th {\n",
       "        text-align: left;\n",
       "    }\n",
       "\n",
       "    .dataframe tbody tr th {\n",
       "        vertical-align: top;\n",
       "    }\n",
       "</style>\n",
       "<table border=\"1\" class=\"dataframe\">\n",
       "  <thead>\n",
       "    <tr style=\"text-align: right;\">\n",
       "      <th></th>\n",
       "      <th>count</th>\n",
       "      <th>mean</th>\n",
       "      <th>std</th>\n",
       "      <th>min</th>\n",
       "      <th>25%</th>\n",
       "      <th>50%</th>\n",
       "      <th>75%</th>\n",
       "      <th>max</th>\n",
       "    </tr>\n",
       "    <tr>\n",
       "      <th>Survived</th>\n",
       "      <th></th>\n",
       "      <th></th>\n",
       "      <th></th>\n",
       "      <th></th>\n",
       "      <th></th>\n",
       "      <th></th>\n",
       "      <th></th>\n",
       "      <th></th>\n",
       "    </tr>\n",
       "  </thead>\n",
       "  <tbody>\n",
       "    <tr>\n",
       "      <th>No</th>\n",
       "      <td>424.0</td>\n",
       "      <td>30.626179</td>\n",
       "      <td>14.172110</td>\n",
       "      <td>1.00</td>\n",
       "      <td>21.0</td>\n",
       "      <td>28.0</td>\n",
       "      <td>39.0</td>\n",
       "      <td>74.0</td>\n",
       "    </tr>\n",
       "    <tr>\n",
       "      <th>Yes</th>\n",
       "      <td>290.0</td>\n",
       "      <td>28.343690</td>\n",
       "      <td>14.950952</td>\n",
       "      <td>0.42</td>\n",
       "      <td>19.0</td>\n",
       "      <td>28.0</td>\n",
       "      <td>36.0</td>\n",
       "      <td>80.0</td>\n",
       "    </tr>\n",
       "  </tbody>\n",
       "</table>\n",
       "</div>"
      ],
      "text/plain": [
       "          count       mean        std   min   25%   50%   75%   max\n",
       "Survived                                                           \n",
       "No        424.0  30.626179  14.172110  1.00  21.0  28.0  39.0  74.0\n",
       "Yes       290.0  28.343690  14.950952  0.42  19.0  28.0  36.0  80.0"
      ]
     },
     "execution_count": 36,
     "metadata": {},
     "output_type": "execute_result"
    }
   ],
   "source": [
    "age_analysis_df.groupby('Survived')['Age'].describe()"
   ]
  },
  {
   "cell_type": "markdown",
   "metadata": {},
   "source": [
    "** Statistical test **\n",
    "\n",
    "The obtained statistics were input to GraphPad's t-test calculator to check if there is a significant difference in the means of the two categories. The result snapshot is shown below.\n",
    "\n",
    "![Output](Result.png \"T-test\")"
   ]
  },
  {
   "cell_type": "markdown",
   "metadata": {},
   "source": [
    "**Observation:** As indicated in the results snapshot, the obtained p value is statistically significant, which implies that age factor might be used to glean insights about the survivability of passengers. "
   ]
  },
  {
   "cell_type": "markdown",
   "metadata": {},
   "source": [
    "**Effect of the socio-economic status of passengers on their chances of survival** "
   ]
  },
  {
   "cell_type": "code",
   "execution_count": 37,
   "metadata": {},
   "outputs": [
    {
     "name": "stdout",
     "output_type": "stream",
     "text": [
      "Categorization of passengers based on socio-economic class\n",
      "                 Survived  Percentage\n",
      "Survived Pclass                      \n",
      "No       Lower        372   67.759563\n",
      "         Middle        97   17.668488\n",
      "         Upper         80   14.571949\n",
      "Yes      Lower        119   34.795322\n",
      "         Middle        87   25.438596\n",
      "         Upper        136   39.766082\n"
     ]
    },
    {
     "data": {
      "image/png": "[encoded data removed]",
      "text/plain": [
       "<matplotlib.figure.Figure at 0x9b65e80>"
      ]
     },
     "metadata": {},
     "output_type": "display_data"
    }
   ],
   "source": [
    "print 'Categorization of passengers based on socio-economic class'\n",
    "compute_survival_rate(['Pclass'])"
   ]
  },
  {
   "cell_type": "markdown",
   "metadata": {},
   "source": [
    "**Observation:** The stacked chart clearly shows that a majority of the upper class survived, while a majority of those from the lower class perished. However, in the middle class, the numbers of those who survived and those who perished are comparable and nothing can be concluded clearly. "
   ]
  },
  {
   "cell_type": "markdown",
   "metadata": {},
   "source": [
    "**Effect of the presence/absence of family members on passengers' chances of survival** "
   ]
  },
  {
   "cell_type": "code",
   "execution_count": 38,
   "metadata": {},
   "outputs": [
    {
     "name": "stdout",
     "output_type": "stream",
     "text": [
      "Categorization of passengers based on accompanying family members\n",
      "                     Survived  Percentage\n",
      "Survived WithFamily                      \n",
      "No       False            374   68.123862\n",
      "         True             175   31.876138\n",
      "Yes      False            163   47.660819\n",
      "         True             179   52.339181\n"
     ]
    },
    {
     "data": {
      "image/png": "[encoded data removed]",
      "text/plain": [
       "<matplotlib.figure.Figure at 0x9a90048>"
      ]
     },
     "metadata": {},
     "output_type": "display_data"
    }
   ],
   "source": [
    "print 'Categorization of passengers based on accompanying family members'\n",
    "compute_survival_rate(['WithFamily'])"
   ]
  },
  {
   "cell_type": "markdown",
   "metadata": {},
   "source": [
    "**Observation:** The counts show that being accompanied by a family member does not appear to affect the number of passengers who survived significantly. However, a majority of those who did not survive appear to be travelling alone."
   ]
  },
  {
   "cell_type": "markdown",
   "metadata": {},
   "source": [
    "**Comprehensive analysis based on sex, class, and age range**"
   ]
  },
  {
   "cell_type": "code",
   "execution_count": 39,
   "metadata": {},
   "outputs": [
    {
     "name": "stdout",
     "output_type": "stream",
     "text": [
      "Categorization of passengers based on sex, socio-economic class, and age range\n",
      "                              Survived  Percentage\n",
      "Survived Sex    Pclass Child                      \n",
      "No       female Lower  False        39    9.198113\n",
      "                       True         16    3.773585\n",
      "                Middle False         6    1.415094\n",
      "                Upper  False         2    0.471698\n",
      "                       True          1    0.235849\n",
      "         male   Lower  False       182   42.924528\n",
      "                       True         33    7.783019\n",
      "                Middle False        82   19.339623\n",
      "                       True          2    0.471698\n",
      "                Upper  False        61   14.386792\n",
      "Yes      female Lower  False        28    9.655172\n",
      "                       True         19    6.551724\n",
      "                Middle False        56   19.310345\n",
      "                       True         12    4.137931\n",
      "                Upper  False        75   25.862069\n",
      "                       True          7    2.413793\n",
      "         male   Lower  False        28    9.655172\n",
      "                       True         10    3.448276\n",
      "                Middle False         6    2.068966\n",
      "                       True          9    3.103448\n",
      "                Upper  False        36   12.413793\n",
      "                       True          4    1.379310\n"
     ]
    },
    {
     "data": {
      "image/png": "[encoded data removed]",
      "text/plain": [
       "<matplotlib.figure.Figure at 0xb412d30>"
      ]
     },
     "metadata": {},
     "output_type": "display_data"
    }
   ],
   "source": [
    "print 'Categorization of passengers based on sex, socio-economic class, and age range'\n",
    "compute_survival_rate(['Sex', 'Pclass', 'Child'])"
   ]
  },
  {
   "cell_type": "markdown",
   "metadata": {},
   "source": [
    "**Observation:** From the given dataset, it appears that upper class adult women were the most likely to survive while lower class adult males were least likely to survive."
   ]
  },
  {
   "cell_type": "markdown",
   "metadata": {},
   "source": [
    "## Conclusions Phase"
   ]
  },
  {
   "cell_type": "markdown",
   "metadata": {},
   "source": [
    "** Did the \"women and children first\" code of conduct hold good in this case? **\n",
    "\n",
    "Analysis reveals that out of the 290 passengers who survived, 220 were either female or children or both. In terms of percentage, this is more than 75%. Thus, it seems likely that the female passengers and children were evacuated first. This is also supported by the fact that male adults comprised more than 75% of those who did not survive."
   ]
  },
  {
   "cell_type": "markdown",
   "metadata": {},
   "source": [
    "** How did the survival percentage differ across the socio-economic status of passengers? **\n",
    "\n",
    "The obtained statistics shows that the number of middle-class passengers who survived (87) was comparable with the number who perished (97). However, these numbers varied widely in the case of the lower and upper classes. In the case of the upper class passengers, 136 survived while 80 perished. In the lower class, 119 survived while 372 perished. From this data, it appears that the possibility of survival was lowest for passengers who belonged to lower socio-economic status, while it was high for those who belonged to the upper class.  "
   ]
  },
  {
   "cell_type": "markdown",
   "metadata": {},
   "source": [
    "** Were passengers travelling as part of a family more likely or less likely to survive from those who travelled alone? ** \n",
    "\n",
    "Analysis of the number of family members of passengers who survived the disaster did not reveal any patterns; the survival numbers are comparable. In contrast, 374 out of 549 passengers who were travelling without family did not survive. However, as the findings were not consistent across both categories, I would not consider this as a reliable feature for determining the possibility of survival."
   ]
  },
  {
   "cell_type": "markdown",
   "metadata": {},
   "source": [
    "## Summary\n",
    "\n",
    "From the investigated parameters of sex, class, age category, and accompanying family members, it was found that sex and class described the survivors and victims; these factors could possibly be used for predicting the survivability of a passenger given his/her demographics. There was no clear consensus on survivability with respect to age category and presence of family. "
   ]
  },
  {
   "cell_type": "markdown",
   "metadata": {},
   "source": [
    "## Limitations of this study\n",
    "\n",
    "1\\. The provided dataset comprised passenger information from 891 of the 2224 passengers. Among these, 177 entries were missing age information. Therefore, the investigated passengers constituted less that half of those who were travelling and findings in this analysis might not be applicable to the entire passenger set.  \n",
    "\n",
    "2\\. Deriving conclusions from metrics like count, percentage, and measures of central tendency or variability is not as rigorous as conducting statistical tests.\n",
    "\n",
    "3\\. In order to simplify analysis, I replaced specific information on number of siblings/spouses and parents/children by aggregate measures. This abstraction could result in overlooking patterns that might exist with respect to these features. \n",
    "\n",
    "4\\. The analysis was restricted to demographical features of passengers. Lurking variables such as the official procedures, initiative of passengers, decisions by officials etc. could also have had an impact on the survivability of passengers. These were beyond the scope of this study."
   ]
  },
  {
   "cell_type": "markdown",
   "metadata": {},
   "source": [
    "## References\n",
    "\n",
    "1\\. [Pandas visualization](https://pandas.pydata.org/pandas-docs/stable/visualization.html)\n",
    "\n",
    "2\\. [Stackoverflow](https://stackoverflow.com/)\n",
    "\n",
    "3\\. [Seaborn visualization](http://seaborn.pydata.org/tutorial/categorical.html)\n",
    "\n",
    "4\\. [Titanic Kaggle page](https://www.kaggle.com/c/titanic/data)\n",
    "\n",
    "5\\. [GraphPad software](http://www.graphpad.com/)"
   ]
  }
 ],
 "metadata": {
  "kernelspec": {
   "display_name": "Python 2",
   "language": "python",
   "name": "python2"
  },
  "language_info": {
   "codemirror_mode": {
    "name": "ipython",
    "version": 2
   },
   "file_extension": ".py",
   "mimetype": "text/x-python",
   "name": "python",
   "nbconvert_exporter": "python",
   "pygments_lexer": "ipython2",
   "version": "2.7.13"
  }
 },
 "nbformat": 4,
 "nbformat_minor": 2
}
